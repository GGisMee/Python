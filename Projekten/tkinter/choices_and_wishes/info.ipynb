{
 "cells": [
  {
   "cell_type": "markdown",
   "metadata": {},
   "source": [
    "### Choices and wishes"
   ]
  },
  {
   "cell_type": "markdown",
   "metadata": {},
   "source": [
    "Idea: Streamline choice making in groups"
   ]
  },
  {
   "cell_type": "markdown",
   "metadata": {},
   "source": [
    "Different variants:\n",
    "Choose for 1. Yourself 2. Everyone a class\n",
    "Choose one alternative, alternatives in order from most wanted to least, a number of points which can be spread out depending on which you want to Choose\n",
    "\n",
    "\n",
    "\n"
   ]
  },
  {
   "cell_type": "markdown",
   "metadata": {},
   "source": [
    "#### Stages"
   ]
  },
  {
   "cell_type": "markdown",
   "metadata": {},
   "source": [
    "1. Write down classes or choose old classes\n",
    "2. Write down each character and their opinions on each class\n",
    "3. A summorization with all the results and maybe some data showing the results"
   ]
  }
 ],
 "metadata": {
  "language_info": {
   "name": "python"
  }
 },
 "nbformat": 4,
 "nbformat_minor": 2
}
