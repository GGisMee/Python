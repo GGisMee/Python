{
 "cells": [
  {
   "cell_type": "markdown",
   "metadata": {},
   "source": [
    "## This jupyter notebook is dedicated to djinkstas algoritm\n",
    "### It contains following parts\n",
    "1. Getting the data\n",
    "2. "
   ]
  },
  {
   "cell_type": "markdown",
   "metadata": {},
   "source": [
    "### Getting the data"
   ]
  },
  {
   "cell_type": "code",
   "execution_count": 2,
   "metadata": {},
   "outputs": [],
   "source": [
    "# imports\n",
    "import numpy as np\n",
    "import pandas as pd\n",
    "from sys import path"
   ]
  },
  {
   "cell_type": "code",
   "execution_count": 47,
   "metadata": {},
   "outputs": [],
   "source": [
    "class node:\n",
    "    def __init__(self, value, name):\n",
    "        self.value = value\n",
    "        self.name = name\n",
    "        self.linked_nodes = []\n",
    "    def __repr__(self) -> str:\n",
    "        return f\"node:{self.name}\"\n",
    "    def link(self, different_node, linkage_value):\n",
    "        self.linked_nodes.append([different_node, linkage_value])\n",
    "    def show_linked(self):\n",
    "        return self.linked_nodes"
   ]
  },
  {
   "cell_type": "code",
   "execution_count": 78,
   "metadata": {},
   "outputs": [
    {
     "name": "stdout",
     "output_type": "stream",
     "text": [
      "[[node:a 'a']\n",
      " [node:b 'b']\n",
      " [node:c 'c']\n",
      " [node:d 'd']\n",
      " [node:s 's']]\n"
     ]
    }
   ],
   "source": [
    "# generate nodes from df\n",
    "df = pd.read_csv(f\"{path[0]}/node_df.csv\")\n",
    "list_of_nodes = []\n",
    "\n",
    "nodes = np.union1d(np.array(df[\"Source\"]), np.array(df[\"Target\"]))\n",
    "\n",
    "#? behövs prob ej, kan bara iterera över alla rows prob\n",
    "for node_name in nodes:\n",
    "    list_of_nodes.append([node(np.inf, node_name), node_name])\n",
    "list_of_nodes = np.array(list_of_nodes)\n",
    "\n",
    "print(list_of_nodes)\n",
    "\n",
    "#for linkage in df.iterrows():\n",
    "#    linkage = linkage[1]\n",
    "#    target_node = list_of_nodes[:,0][list_of_nodes[:,1]==linkage[\"Target\"]][0]\n",
    "#    print(target_node.value, target_node)\n",
    "\n"
   ]
  },
  {
   "cell_type": "markdown",
   "metadata": {},
   "source": [
    "### Building the algoritm"
   ]
  },
  {
   "cell_type": "code",
   "execution_count": 73,
   "metadata": {},
   "outputs": [
    {
     "data": {
      "text/plain": [
       "array([node:a, 'a', node:b, 'b', 'c', node:d, 'd', node:s, 's'],\n",
       "      dtype=object)"
      ]
     },
     "execution_count": 73,
     "metadata": {},
     "output_type": "execute_result"
    }
   ],
   "source": [
    "# chosen node\n",
    "chosen_node_name = \"s\"\n",
    "modified_list_of_nodes = list_of_nodes[:,0]\n",
    "index_of_chosen_node = np.squeeze(np.where(list_of_nodes[:,1]==chosen_node_name))\n",
    "chosen_node = list_of_nodes[index_of_chosen_node]\n",
    "list_of_nodes = np.delete(list_of_nodes, index_of_chosen_node)\n",
    "list_of_nodes\n",
    "#(list_of_nodes[:,0]"
   ]
  }
 ],
 "metadata": {
  "kernelspec": {
   "display_name": "Python 3",
   "language": "python",
   "name": "python3"
  },
  "language_info": {
   "codemirror_mode": {
    "name": "ipython",
    "version": 3
   },
   "file_extension": ".py",
   "mimetype": "text/x-python",
   "name": "python",
   "nbconvert_exporter": "python",
   "pygments_lexer": "ipython3",
   "version": "3.11.4"
  },
  "orig_nbformat": 4
 },
 "nbformat": 4,
 "nbformat_minor": 2
}
