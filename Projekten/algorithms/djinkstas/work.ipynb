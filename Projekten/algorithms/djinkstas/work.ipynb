{
 "cells": [
  {
   "cell_type": "markdown",
   "metadata": {},
   "source": [
    "### This jupyter notebook is dedicated to djinkstas algoritm\n",
    "#### It contains following parts\n",
    "1. imports\n",
    "2. getting the data\n",
    "3. node class"
   ]
  },
  {
   "cell_type": "code",
   "execution_count": 1,
   "metadata": {},
   "outputs": [],
   "source": [
    "# imports\n",
    "import numpy as np\n",
    "import pandas as pd\n",
    "from sys import path"
   ]
  },
  {
   "cell_type": "code",
   "execution_count": 2,
   "metadata": {},
   "outputs": [],
   "source": [
    "class node:\n",
    "    def __init__(self, value, name):\n",
    "        self.value = value\n",
    "        self.name = name\n",
    "        self.linked_nodes = []\n",
    "    def __repr__(self) -> str:\n",
    "        return f\"name: {self.name}\"\n",
    "    def link(self, different_node, linkage_value):\n",
    "        self.linked_nodes.append([different_node, linkage_value])\n",
    "    def show_linked(self):\n",
    "        return self.linked_nodes"
   ]
  },
  {
   "cell_type": "code",
   "execution_count": 6,
   "metadata": {},
   "outputs": [
    {
     "name": "stdout",
     "output_type": "stream",
     "text": [
      "2    a\n",
      "Name: Source, dtype: object\n",
      "3    b\n",
      "4    b\n",
      "5    b\n",
      "Name: Source, dtype: object\n",
      "6    c\n",
      "Name: Source, dtype: object\n",
      "Series([], Name: Source, dtype: object)\n",
      "0    s\n",
      "1    s\n",
      "Name: Source, dtype: object\n"
     ]
    }
   ],
   "source": [
    "global node\n",
    "df = pd.read_csv(f\"{path[0]}/node_df.csv\")\n",
    "list_of_nodes = []\n",
    "\n",
    "nodes = np.union1d(np.array(df[\"Source\"]), np.array(df[\"Target\"]))\n",
    "\n",
    "\n",
    "#? behövs prob ej, kan bara iterera över alla rows prob\n",
    "for node_name in nodes:\n",
    "    list_of_nodes.append(node(np.inf, node_name))\n",
    "for selected_node in list_of_nodes: # isolerade nodes, (basically tar den fram varje node nämnd i node_df)\n",
    "    for linkage in (df[\"Source\"][df[\"Source\"]==selected_node.name]): # tar fram alla linkages ur node_df med en viss node\n"
   ]
  }
 ],
 "metadata": {
  "kernelspec": {
   "display_name": "Python 3",
   "language": "python",
   "name": "python3"
  },
  "language_info": {
   "codemirror_mode": {
    "name": "ipython",
    "version": 3
   },
   "file_extension": ".py",
   "mimetype": "text/x-python",
   "name": "python",
   "nbconvert_exporter": "python",
   "pygments_lexer": "ipython3",
   "version": "3.11.4"
  },
  "orig_nbformat": 4
 },
 "nbformat": 4,
 "nbformat_minor": 2
}
