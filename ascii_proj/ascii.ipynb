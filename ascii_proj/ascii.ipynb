{
 "cells": [
  {
   "cell_type": "markdown",
   "metadata": {},
   "source": [
    "##### Imports"
   ]
  },
  {
   "cell_type": "code",
   "execution_count": 19,
   "metadata": {},
   "outputs": [],
   "source": [
    "from PIL import Image, ImageOps\n",
    "import os\n",
    "import numpy as np\n",
    "import time\n",
    "import matplotlib.pyplot as plt\n"
   ]
  },
  {
   "cell_type": "markdown",
   "metadata": {},
   "source": [
    "##### Imported info"
   ]
  },
  {
   "cell_type": "code",
   "execution_count": 80,
   "metadata": {},
   "outputs": [],
   "source": [
    "# x,y\n",
    "size: tuple[int] = (30,20)\n",
    "characters:np.ndarray[str] = np.array([\"░\",\"▒\",\"▓\",\"█\"])"
   ]
  },
  {
   "cell_type": "markdown",
   "metadata": {},
   "source": [
    "##### Get Image"
   ]
  },
  {
   "cell_type": "code",
   "execution_count": 81,
   "metadata": {},
   "outputs": [],
   "source": [
    "image_obj = Image.open('cat1.png')"
   ]
  },
  {
   "cell_type": "markdown",
   "metadata": {},
   "source": [
    "##### grayscale and resize down"
   ]
  },
  {
   "cell_type": "code",
   "execution_count": 82,
   "metadata": {},
   "outputs": [
    {
     "data": {
      "text/plain": [
       "(30, 20)"
      ]
     },
     "execution_count": 82,
     "metadata": {},
     "output_type": "execute_result"
    }
   ],
   "source": [
    "gray_obj = ImageOps.grayscale(image_obj)\n",
    "gray_obj= gray_obj.resize(size)\n",
    "gray_obj.show()\n",
    "gray_obj.size"
   ]
  },
  {
   "cell_type": "markdown",
   "metadata": {},
   "source": [
    "##### To list"
   ]
  },
  {
   "cell_type": "code",
   "execution_count": 84,
   "metadata": {},
   "outputs": [
    {
     "data": {
      "text/plain": [
       "array([['░', '░', '░', '░', '░', '░', '░', '░', '░', '░', '░', '░', '░',\n",
       "        '░', '░', '░', '░', '░', '░', '░', '░', '░', '░', '░', '░', '░',\n",
       "        '░', '░', '░', '░'],\n",
       "       ['░', '░', '░', '░', '░', '░', '░', '░', '░', '░', '░', '░', '░',\n",
       "        '░', '░', '░', '░', '░', '░', '░', '░', '░', '░', '░', '░', '░',\n",
       "        '░', '░', '░', '░'],\n",
       "       ['░', '░', '░', '░', '░', '░', '░', '░', '░', '░', '░', '░', '░',\n",
       "        '░', '░', '░', '░', '░', '░', '░', '░', '░', '░', '░', '░', '░',\n",
       "        '░', '░', '░', '░'],\n",
       "       ['░', '░', '░', '░', '░', '░', '░', '░', '░', '░', '░', '░', '░',\n",
       "        '░', '░', '░', '░', '░', '░', '░', '░', '░', '░', '░', '░', '░',\n",
       "        '░', '░', '░', '░'],\n",
       "       ['░', '░', '░', '░', '░', '░', '░', '░', '░', '░', '░', '░', '░',\n",
       "        '░', '░', '░', '░', '░', '░', '░', '░', '░', '░', '░', '░', '░',\n",
       "        '░', '░', '░', '░'],\n",
       "       ['░', '░', '░', '░', '░', '░', '░', '░', '░', '░', '░', '░', '░',\n",
       "        '░', '░', '░', '░', '░', '░', '░', '░', '░', '░', '░', '░', '░',\n",
       "        '░', '░', '░', '░'],\n",
       "       ['░', '░', '░', '░', '░', '░', '░', '░', '░', '░', '░', '░', '░',\n",
       "        '░', '░', '░', '░', '░', '░', '░', '░', '░', '░', '░', '░', '░',\n",
       "        '░', '░', '░', '░'],\n",
       "       ['░', '░', '░', '░', '░', '░', '░', '░', '░', '░', '░', '░', '░',\n",
       "        '░', '░', '░', '░', '░', '░', '░', '░', '░', '░', '░', '░', '░',\n",
       "        '░', '░', '░', '░'],\n",
       "       ['░', '░', '░', '░', '░', '░', '░', '░', '░', '░', '░', '░', '░',\n",
       "        '░', '░', '░', '░', '░', '░', '░', '░', '▒', '▓', '▒', '▒', '▒',\n",
       "        '░', '░', '░', '░'],\n",
       "       ['░', '░', '░', '░', '░', '░', '░', '░', '░', '░', '░', '░', '░',\n",
       "        '░', '░', '░', '░', '░', '░', '░', '░', '░', '▓', '▓', '▓', '▓',\n",
       "        '░', '░', '░', '░'],\n",
       "       ['░', '░', '░', '░', '░', '░', '░', '░', '░', '░', '░', '░', '░',\n",
       "        '▒', '▒', '▒', '▓', '▓', '▓', '▓', '▓', '▓', '▓', '▓', '▓', '▓',\n",
       "        '▒', '░', '░', '░'],\n",
       "       ['░', '░', '░', '░', '░', '░', '░', '░', '░', '░', '░', '▒', '▓',\n",
       "        '█', '█', '█', '█', '█', '█', '█', '▓', '▓', '▓', '▓', '▓', '▓',\n",
       "        '▓', '░', '░', '░'],\n",
       "       ['░', '░', '░', '░', '░', '░', '░', '░', '░', '░', '▒', '█', '█',\n",
       "        '█', '█', '█', '█', '█', '▓', '▓', '▓', '▓', '▓', '▓', '▓', '▓',\n",
       "        '▓', '░', '░', '░'],\n",
       "       ['░', '░', '░', '▒', '▒', '▒', '▒', '▒', '▒', '▓', '█', '█', '█',\n",
       "        '█', '█', '█', '█', '█', '█', '▓', '▓', '▓', '▓', '▓', '█', '▓',\n",
       "        '▓', '░', '░', '░'],\n",
       "       ['░', '▓', '█', '█', '█', '█', '█', '█', '█', '█', '█', '█', '█',\n",
       "        '█', '█', '█', '█', '▓', '█', '▓', '▓', '▓', '▓', '▓', '█', '█',\n",
       "        '▓', '▒', '░', '░'],\n",
       "       ['░', '▒', '▒', '░', '░', '░', '░', '░', '▒', '█', '█', '█', '█',\n",
       "        '█', '█', '▓', '▓', '▓', '▓', '▓', '▓', '▓', '▓', '▓', '█', '█',\n",
       "        '█', '█', '▓', '░'],\n",
       "       ['░', '░', '░', '░', '░', '░', '░', '░', '░', '░', '░', '▒', '▓',\n",
       "        '▓', '░', '░', '░', '░', '░', '░', '░', '░', '░', '░', '▒', '▒',\n",
       "        '▒', '▒', '░', '░'],\n",
       "       ['░', '░', '░', '░', '░', '░', '░', '░', '░', '░', '░', '░', '░',\n",
       "        '░', '░', '░', '░', '░', '░', '░', '░', '░', '░', '░', '░', '░',\n",
       "        '░', '░', '░', '░'],\n",
       "       ['░', '░', '░', '░', '░', '░', '░', '░', '░', '░', '░', '░', '░',\n",
       "        '░', '░', '░', '░', '░', '░', '░', '░', '░', '░', '░', '░', '░',\n",
       "        '░', '░', '░', '░'],\n",
       "       ['░', '░', '░', '░', '░', '░', '░', '░', '░', '░', '░', '░', '░',\n",
       "        '░', '░', '░', '░', '░', '░', '░', '░', '░', '░', '░', '░', '░',\n",
       "        '░', '░', '░', '░']], dtype='<U1')"
      ]
     },
     "execution_count": 84,
     "metadata": {},
     "output_type": "execute_result"
    }
   ],
   "source": [
    "img_rgb = np.array(gray_obj.convert('RGB'))\n",
    "intervalNum:int = round(255/len(characters))\n",
    "intervalList:np.ndarray[int] = np.round((np.arange(len(characters)))*(255/len(characters))).astype(np.uint8)\n",
    "\n",
    "# removes unnecessary g,b, values, as they are identical after grayscale conversion.\n",
    "img_rgb = img_rgb.transpose(2,0,1)[0]\n",
    "\n",
    "# devides the images values by the interval number and then rounds the numbers\n",
    "# this ensures that they are placed into slots for each of the intervals\n",
    "devided_imgs = np.round(img_rgb/intervalNum).astype(np.uint8)\n",
    "characters[devided_imgs]"
   ]
  },
  {
   "cell_type": "code",
   "execution_count": null,
   "metadata": {},
   "outputs": [],
   "source": [
    "\n",
    "for i in img_rgb:\n",
    "    for i2 in i:\n",
    "        for i3 in i2:\n",
    "            if i3!= 0:\n",
    "                print(i2)\n",
    "\n",
    "# img_again = Image.fromarray(img_rgb, \"RGB\")"
   ]
  }
 ],
 "metadata": {
  "kernelspec": {
   "display_name": "Python 3",
   "language": "python",
   "name": "python3"
  },
  "language_info": {
   "codemirror_mode": {
    "name": "ipython",
    "version": 3
   },
   "file_extension": ".py",
   "mimetype": "text/x-python",
   "name": "python",
   "nbconvert_exporter": "python",
   "pygments_lexer": "ipython3",
   "version": "3.11.9"
  }
 },
 "nbformat": 4,
 "nbformat_minor": 2
}
